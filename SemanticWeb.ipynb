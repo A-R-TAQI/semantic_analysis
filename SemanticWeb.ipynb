{
  "nbformat": 4,
  "nbformat_minor": 0,
  "metadata": {
    "colab": {
      "provenance": [],
      "include_colab_link": true
    },
    "kernelspec": {
      "name": "python3",
      "display_name": "Python 3"
    },
    "language_info": {
      "name": "python"
    }
  },
  "cells": [
    {
      "cell_type": "markdown",
      "metadata": {
        "id": "view-in-github",
        "colab_type": "text"
      },
      "source": [
        "<a href=\"https://colab.research.google.com/github/A-R-TAQI/semantic_analysis/blob/main/SemanticWeb.ipynb\" target=\"_parent\"><img src=\"https://colab.research.google.com/assets/colab-badge.svg\" alt=\"Open In Colab\"/></a>"
      ]
    },
    {
      "cell_type": "code",
      "execution_count": null,
      "metadata": {
        "colab": {
          "base_uri": "https://localhost:8080/"
        },
        "id": "FViNUDVF1-bu",
        "outputId": "39182d3e-d00a-4447-b77d-b6a5e84524bf"
      },
      "outputs": [
        {
          "output_type": "stream",
          "name": "stdout",
          "text": [
            "Collecting ntscraper\n",
            "  Downloading ntscraper-0.3.6-py3-none-any.whl (10 kB)\n",
            "Requirement already satisfied: requests in /usr/local/lib/python3.10/dist-packages (from ntscraper) (2.31.0)\n",
            "Requirement already satisfied: beautifulsoup4 in /usr/local/lib/python3.10/dist-packages (from ntscraper) (4.11.2)\n",
            "Requirement already satisfied: lxml in /usr/local/lib/python3.10/dist-packages (from ntscraper) (4.9.3)\n",
            "Requirement already satisfied: soupsieve>1.2 in /usr/local/lib/python3.10/dist-packages (from beautifulsoup4->ntscraper) (2.5)\n",
            "Requirement already satisfied: charset-normalizer<4,>=2 in /usr/local/lib/python3.10/dist-packages (from requests->ntscraper) (3.3.2)\n",
            "Requirement already satisfied: idna<4,>=2.5 in /usr/local/lib/python3.10/dist-packages (from requests->ntscraper) (3.6)\n",
            "Requirement already satisfied: urllib3<3,>=1.21.1 in /usr/local/lib/python3.10/dist-packages (from requests->ntscraper) (2.0.7)\n",
            "Requirement already satisfied: certifi>=2017.4.17 in /usr/local/lib/python3.10/dist-packages (from requests->ntscraper) (2023.11.17)\n",
            "Installing collected packages: ntscraper\n",
            "Successfully installed ntscraper-0.3.6\n"
          ]
        }
      ],
      "source": [
        "!pip install ntscraper"
      ]
    },
    {
      "cell_type": "code",
      "source": [
        "import pandas as pd\n",
        "from ntscraper import Nitter"
      ],
      "metadata": {
        "id": "Ty4MJ9fS2r6D"
      },
      "execution_count": null,
      "outputs": []
    },
    {
      "cell_type": "code",
      "source": [
        "scraper = Nitter(0)"
      ],
      "metadata": {
        "colab": {
          "base_uri": "https://localhost:8080/"
        },
        "id": "m1Qz6hWJ2507",
        "outputId": "dac1e72d-4259-4db7-a1ef-5e82f83e8b49"
      },
      "execution_count": null,
      "outputs": [
        {
          "output_type": "stream",
          "name": "stderr",
          "text": [
            "Testing instances: 100%|██████████| 31/31 [00:40<00:00,  1.31s/it]\n"
          ]
        }
      ]
    },
    {
      "cell_type": "code",
      "source": [
        "tweets = scraper.get_tweets(\"ElectricVehicles\", mode = 'hashtag', number=1000)\n",
        "final_tweets = []\n",
        "for x in tweets['tweets']:\n",
        "    data = [x['user']['name'], x['text'],x['date'],x['stats']['likes'],x['stats']['comments']]\n",
        "    final_tweets.append(data)"
      ],
      "metadata": {
        "id": "qy5NdlcZ3KTI",
        "colab": {
          "base_uri": "https://localhost:8080/"
        },
        "outputId": "2880ced7-b962-450b-fac4-fbb78b8fe651"
      },
      "execution_count": null,
      "outputs": [
        {
          "output_type": "stream",
          "name": "stderr",
          "text": [
            "WARNING:root:Empty page on https://nitter.privacydev.net\n"
          ]
        }
      ]
    },
    {
      "cell_type": "code",
      "source": [
        "data = pd.DataFrame(final_tweets, columns =['name','text','date','likes','comments'])\n",
        "data.to_csv('SolarVehicles.csv')"
      ],
      "metadata": {
        "id": "zC3VNJmW6hN-"
      },
      "execution_count": null,
      "outputs": []
    },
    {
      "cell_type": "code",
      "source": [
        "#To add a sentiments attribute to the dataset\n",
        "from textblob import TextBlob\n",
        "data = pd.read_csv('ElectricVehicles.csv')\n",
        "\n",
        "def get_sentiment(text):\n",
        "    analysis = TextBlob(text)\n",
        "    if analysis.sentiment.polarity > 0:  # Positive sentiment\n",
        "        return 1\n",
        "    elif analysis.sentiment.polarity == 0:  # Neutral sentiment\n",
        "        return 0\n",
        "    else:  # Negative sentiment\n",
        "        return -1\n",
        "\n",
        "# Applying sentiment analysis and creating a new column 'sentiments'\n",
        "data['sentiments'] = data['text'].apply(get_sentiment)\n",
        "\n",
        "# Saving the modified dataset with the new column\n",
        "data.to_csv('ElectricVehicles.csv', index=False)\n"
      ],
      "metadata": {
        "id": "1GKqZd8m6zpN"
      },
      "execution_count": null,
      "outputs": []
    },
    {
      "cell_type": "code",
      "source": [
        "!pip install rdflib"
      ],
      "metadata": {
        "colab": {
          "base_uri": "https://localhost:8080/"
        },
        "id": "--85fhRp7bwK",
        "outputId": "c8fdbef6-25c5-4634-812d-04a31ff3ad05"
      },
      "execution_count": null,
      "outputs": [
        {
          "output_type": "stream",
          "name": "stdout",
          "text": [
            "Requirement already satisfied: rdflib in /usr/local/lib/python3.10/dist-packages (7.0.0)\n",
            "Requirement already satisfied: isodate<0.7.0,>=0.6.0 in /usr/local/lib/python3.10/dist-packages (from rdflib) (0.6.1)\n",
            "Requirement already satisfied: pyparsing<4,>=2.1.0 in /usr/local/lib/python3.10/dist-packages (from rdflib) (3.1.1)\n",
            "Requirement already satisfied: six in /usr/local/lib/python3.10/dist-packages (from isodate<0.7.0,>=0.6.0->rdflib) (1.16.0)\n"
          ]
        }
      ]
    },
    {
      "cell_type": "code",
      "source": [
        "import pandas as pd\n",
        "from rdflib import Graph, Literal, Namespace, RDF, URIRef, XSD\n",
        "from urllib.parse import quote\n",
        "from datetime import datetime\n",
        "\n",
        "data = pd.read_csv('ElectricVehicles.csv')\n",
        "g = Graph()\n",
        "ex = Namespace(\"http://pavan.org/\")  # Your namespace\n",
        "\n",
        "# Function to convert date string to ISO 8601 format\n",
        "def convert_to_iso_date(date_str):\n",
        "    # Example: Convert 'Dec 15, 2023 · 8:26 AM UTC' to '2023-12-15T08:26:00Z'\n",
        "    date_obj = datetime.strptime(date_str, '%b %d, %Y · %I:%M %p %Z')\n",
        "    return date_obj.strftime('%Y-%m-%dT%H:%M:%SZ')\n",
        "\n",
        "# Iterate through the CSV data and create RDF triples\n",
        "for index, row in data.iterrows():\n",
        "    user_uri = URIRef(ex + quote(f\"user_{index}\"))  # Generate a valid URI for each user\n",
        "    tweet_uri = URIRef(ex + quote(f\"tweet_{index}\"))  # Generate a valid URI for each tweet\n",
        "\n",
        "    g.add((user_uri, RDF.type, ex.User))\n",
        "    g.add((user_uri, ex.hasName, Literal(row['name'])))\n",
        "\n",
        "    iso_date = convert_to_iso_date(row['date'])\n",
        "\n",
        "    g.add((tweet_uri, RDF.type, ex.Tweet))\n",
        "    g.add((tweet_uri, ex.hasText, Literal(row['text'])))\n",
        "    g.add((tweet_uri, ex.hasDate, Literal(iso_date, datatype=XSD.dateTime)))\n",
        "    g.add((tweet_uri, ex.hasLikes, Literal(row['likes'], datatype=XSD.integer)))\n",
        "    g.add((tweet_uri, ex.hasComments, Literal(row['comments'], datatype=XSD.integer)))\n",
        "    g.add((tweet_uri, ex.hasSentiment, Literal(row['sentiments'], datatype=XSD.integer)))\n",
        "    g.add((tweet_uri, ex.postedBy, user_uri))\n",
        "# Serialize the RDF graph to RDF/XML and save it to a file\n",
        "rdf_output = g.serialize(destination='ElectricVehicles.rdf',format='xml')\n"
      ],
      "metadata": {
        "id": "TmSGvv488PeJ"
      },
      "execution_count": null,
      "outputs": []
    }
  ]
}